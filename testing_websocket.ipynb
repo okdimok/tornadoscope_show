{
 "cells": [
  {
   "cell_type": "code",
   "execution_count": 1,
   "metadata": {},
   "outputs": [],
   "source": [
    "import asyncio\n",
    "import websockets\n",
    "import importlib\n",
    "import websocket_gyverhub\n",
    "importlib.reload(websocket_gyverhub)\n",
    "wgh = websocket_gyverhub\n",
    "\n",
    "loop = asyncio.get_event_loop()"
   ]
  },
  {
   "cell_type": "code",
   "execution_count": 10,
   "metadata": {},
   "outputs": [
    {
     "data": {
      "text/plain": [
       "<Task pending name='Task-25' coro=<Device.set() running at c:\\Users\\dmitrym\\YandexDisk\\coding_leisure\\Arduino\\PyGyverHubTest\\websocket_gyverhub.py:51>>"
      ]
     },
     "execution_count": 10,
     "metadata": {},
     "output_type": "execute_result"
    },
    {
     "name": "stdout",
     "output_type": "stream",
     "text": [
      "Connecting to ws://192.168.123.17:81\n",
      "Failed to connect: \n"
     ]
    }
   ],
   "source": [
    "device = wgh.Device(\"192.168.123.17\", 81, \"1ce9cfea\", \"22b6215d\")\n",
    "\n",
    "loop.create_task(device.set(wgh.TornadoscopeVariables.expo, 1200))"
   ]
  },
  {
   "cell_type": "code",
   "execution_count": 7,
   "metadata": {},
   "outputs": [
    {
     "data": {
      "text/plain": [
       "<Task pending name='Task-21' coro=<connect_to_websocket() running at C:\\Users\\dmitrym\\AppData\\Local\\Temp\\ipykernel_10356\\1825724368.py:4>>"
      ]
     },
     "execution_count": 7,
     "metadata": {},
     "output_type": "execute_result"
    },
    {
     "name": "stdout",
     "output_type": "stream",
     "text": [
      "Received from server: #{#1:\"1ce9cfea\",#3:#18,#a:\"_n3\"}#\n"
     ]
    }
   ],
   "source": [
    "import asyncio\n",
    "import websockets\n",
    "\n",
    "async def connect_to_websocket(uri):\n",
    "    async with websockets.connect(uri) as websocket:\n",
    "        # Send a message\n",
    "        await websocket.send(\"MyDevices/1ce9cfea/22b6215d/set/_n3=29\t\")\n",
    "\n",
    "        # Wait for a response\n",
    "        response = await websocket.recv()\n",
    "        print(f\"Received from server: {response}\")\n",
    "\n",
    "# Replace 'ws://example.com/socket' with your WebSocket server URI\n",
    "uri = \"ws://192.168.123.17:81\"\n",
    "\n",
    "# Run the event loop to execute the coroutine\n",
    "loop.create_task(connect_to_websocket(uri))\n"
   ]
  },
  {
   "cell_type": "code",
   "execution_count": 4,
   "metadata": {},
   "outputs": [
    {
     "data": {
      "text/plain": [
       "<GHTag.type: 3>"
      ]
     },
     "execution_count": 4,
     "metadata": {},
     "output_type": "execute_result"
    }
   ],
   "source": [
    "wgh.GHTag(3)"
   ]
  },
  {
   "cell_type": "code",
   "execution_count": null,
   "metadata": {},
   "outputs": [],
   "source": []
  }
 ],
 "metadata": {
  "kernelspec": {
   "display_name": "venv",
   "language": "python",
   "name": "python3"
  },
  "language_info": {
   "codemirror_mode": {
    "name": "ipython",
    "version": 3
   },
   "file_extension": ".py",
   "mimetype": "text/x-python",
   "name": "python",
   "nbconvert_exporter": "python",
   "pygments_lexer": "ipython3",
   "version": "3.9.1"
  }
 },
 "nbformat": 4,
 "nbformat_minor": 2
}
